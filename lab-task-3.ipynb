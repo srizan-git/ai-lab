data = []
choice = 'random'

def line():
    print('---------------------------')

def show_menu():
    line()
    print('MENU')
    line()
    print('1. Add Course')
    print('2. Unenroll Course')
    print('3. View Courses')
    print('4. Exit')
    line()
    choice = input('Enter your choice: ')
    return choice

while choice != '4':
    choice = show_menu()
    if choice == '1':
        course = input('Enter course name you want to add: ')
        data.append(course)
        print('Course', course, 'added successfully!')
    elif choice == '2':
        course = input('Which course you want to unenroll from? ')
        if course in data:
            data.remove(course)
            print('Removed course', course)
        else:
            print('Could not find course', course)
    elif choice == '3':
        print('List of courses:')
        for course in data:
            print(course)
    elif choice == '4':
        print('Goodbye!')
    else:
        print('Please enter one of 1, 2, 3 or 4')
