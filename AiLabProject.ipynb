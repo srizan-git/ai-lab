{
  "nbformat": 4,
  "nbformat_minor": 0,
  "metadata": {
    "colab": {
      "name": "AiLabProject.ipynb",
      "provenance": [],
      "authorship_tag": "ABX9TyPBkYJyHD7v6ySLf4Z1fh+7",
      "include_colab_link": true
    },
    "kernelspec": {
      "name": "python3",
      "display_name": "Python 3"
    },
    "language_info": {
      "name": "python"
    }
  },
  "cells": [
    {
      "cell_type": "markdown",
      "metadata": {
        "id": "view-in-github",
        "colab_type": "text"
      },
      "source": [
        "<a href=\"https://colab.research.google.com/github/SrizanX/ai-lab/blob/main/AiLabProject.ipynb\" target=\"_parent\"><img src=\"https://colab.research.google.com/assets/colab-badge.svg\" alt=\"Open In Colab\"/></a>"
      ]
    },
    {
      "cell_type": "markdown",
      "metadata": {
        "id": "Igjq6oUHCEVG"
      },
      "source": [
        "[Austin Weather Datasets](https://www.kaggle.com/grubenm/austin-weather)"
      ]
    },
    {
      "cell_type": "markdown",
      "metadata": {
        "id": "Yf0F9N1Tg30u"
      },
      "source": [
        "Mount Google Drive"
      ]
    },
    {
      "cell_type": "code",
      "metadata": {
        "colab": {
          "base_uri": "https://localhost:8080/"
        },
        "id": "H0h7V0VUg828",
        "outputId": "331bda8a-2c19-44f1-8abc-a32986068144"
      },
      "source": [
        "from google.colab import drive\n",
        "drive.mount('/content/drive')"
      ],
      "execution_count": null,
      "outputs": [
        {
          "output_type": "stream",
          "text": [
            "Mounted at /content/drive\n"
          ],
          "name": "stdout"
        }
      ]
    },
    {
      "cell_type": "markdown",
      "metadata": {
        "id": "TUQzQYiXTWcr"
      },
      "source": [
        "Imports"
      ]
    },
    {
      "cell_type": "code",
      "metadata": {
        "id": "hyDSG7dLTYrC"
      },
      "source": [
        "import pandas as pd\n",
        "import numpy as np \n",
        "import sklearn as sk \n",
        "from sklearn.linear_model import LinearRegression\n",
        "import matplotlib.pyplot as plt"
      ],
      "execution_count": null,
      "outputs": []
    },
    {
      "cell_type": "markdown",
      "metadata": {
        "id": "t5ATmAbxidhb"
      },
      "source": [
        "Read the CSV file"
      ]
    },
    {
      "cell_type": "code",
      "metadata": {
        "id": "Nn0VPswDiq9p"
      },
      "source": [
        "# Mount CSV\n",
        "data = pd.read_csv('drive/My Drive/Colab Notebooks/AiLabFinal/austin_weather.csv')\n",
        "\n",
        "#Sort Dataset\n",
        "#data.set_index('Date').sort_index()"
      ],
      "execution_count": null,
      "outputs": []
    },
    {
      "cell_type": "markdown",
      "metadata": {
        "id": "JxhviUvvjfuy"
      },
      "source": [
        "Show Dataset"
      ]
    },
    {
      "cell_type": "code",
      "metadata": {
        "colab": {
          "base_uri": "https://localhost:8080/",
          "height": 204
        },
        "id": "l992OsZ-jhxh",
        "outputId": "32a49980-d4be-4fcb-8f17-5866f1006428"
      },
      "source": [
        "data.head()"
      ],
      "execution_count": null,
      "outputs": [
        {
          "output_type": "execute_result",
          "data": {
            "text/html": [
              "<div>\n",
              "<style scoped>\n",
              "    .dataframe tbody tr th:only-of-type {\n",
              "        vertical-align: middle;\n",
              "    }\n",
              "\n",
              "    .dataframe tbody tr th {\n",
              "        vertical-align: top;\n",
              "    }\n",
              "\n",
              "    .dataframe thead th {\n",
              "        text-align: right;\n",
              "    }\n",
              "</style>\n",
              "<table border=\"1\" class=\"dataframe\">\n",
              "  <thead>\n",
              "    <tr style=\"text-align: right;\">\n",
              "      <th></th>\n",
              "      <th>TempAvgF</th>\n",
              "      <th>DewPointAvgF</th>\n",
              "      <th>HumidityAvgPercent</th>\n",
              "      <th>SeaLevelPressureAvgInches</th>\n",
              "      <th>VisibilityAvgMiles</th>\n",
              "      <th>WindAvgMPH</th>\n",
              "      <th>PrecipitationSumInches</th>\n",
              "    </tr>\n",
              "  </thead>\n",
              "  <tbody>\n",
              "    <tr>\n",
              "      <th>0</th>\n",
              "      <td>60</td>\n",
              "      <td>49</td>\n",
              "      <td>75</td>\n",
              "      <td>29.68</td>\n",
              "      <td>7</td>\n",
              "      <td>4</td>\n",
              "      <td>0.46</td>\n",
              "    </tr>\n",
              "    <tr>\n",
              "      <th>1</th>\n",
              "      <td>48</td>\n",
              "      <td>36</td>\n",
              "      <td>68</td>\n",
              "      <td>30.13</td>\n",
              "      <td>10</td>\n",
              "      <td>6</td>\n",
              "      <td>0</td>\n",
              "    </tr>\n",
              "    <tr>\n",
              "      <th>2</th>\n",
              "      <td>45</td>\n",
              "      <td>27</td>\n",
              "      <td>52</td>\n",
              "      <td>30.49</td>\n",
              "      <td>10</td>\n",
              "      <td>3</td>\n",
              "      <td>0</td>\n",
              "    </tr>\n",
              "    <tr>\n",
              "      <th>3</th>\n",
              "      <td>46</td>\n",
              "      <td>28</td>\n",
              "      <td>56</td>\n",
              "      <td>30.45</td>\n",
              "      <td>10</td>\n",
              "      <td>4</td>\n",
              "      <td>0</td>\n",
              "    </tr>\n",
              "    <tr>\n",
              "      <th>4</th>\n",
              "      <td>50</td>\n",
              "      <td>40</td>\n",
              "      <td>71</td>\n",
              "      <td>30.33</td>\n",
              "      <td>10</td>\n",
              "      <td>2</td>\n",
              "      <td>T</td>\n",
              "    </tr>\n",
              "  </tbody>\n",
              "</table>\n",
              "</div>"
            ],
            "text/plain": [
              "   TempAvgF DewPointAvgF  ... WindAvgMPH PrecipitationSumInches\n",
              "0        60           49  ...          4                   0.46\n",
              "1        48           36  ...          6                      0\n",
              "2        45           27  ...          3                      0\n",
              "3        46           28  ...          4                      0\n",
              "4        50           40  ...          2                      T\n",
              "\n",
              "[5 rows x 7 columns]"
            ]
          },
          "metadata": {
            "tags": []
          },
          "execution_count": 8
        }
      ]
    },
    {
      "cell_type": "code",
      "metadata": {
        "colab": {
          "base_uri": "https://localhost:8080/"
        },
        "id": "DzdfI-_Mj_ab",
        "outputId": "6407e223-01ee-4ba9-ceab-2d3564cf252b"
      },
      "source": [
        "data.shape"
      ],
      "execution_count": null,
      "outputs": [
        {
          "output_type": "execute_result",
          "data": {
            "text/plain": [
              "(1319, 21)"
            ]
          },
          "metadata": {
            "tags": []
          },
          "execution_count": 79
        }
      ]
    },
    {
      "cell_type": "code",
      "metadata": {
        "colab": {
          "base_uri": "https://localhost:8080/"
        },
        "id": "ZLyU6J4bkeHC",
        "outputId": "eda27bcc-c2db-4ca2-ee5e-61e3f372d98e"
      },
      "source": [
        "data.info()"
      ],
      "execution_count": null,
      "outputs": [
        {
          "output_type": "stream",
          "text": [
            "<class 'pandas.core.frame.DataFrame'>\n",
            "RangeIndex: 1319 entries, 0 to 1318\n",
            "Data columns (total 21 columns):\n",
            " #   Column                      Non-Null Count  Dtype \n",
            "---  ------                      --------------  ----- \n",
            " 0   Date                        1319 non-null   object\n",
            " 1   TempHighF                   1319 non-null   int64 \n",
            " 2   TempAvgF                    1319 non-null   int64 \n",
            " 3   TempLowF                    1319 non-null   int64 \n",
            " 4   DewPointHighF               1319 non-null   object\n",
            " 5   DewPointAvgF                1319 non-null   object\n",
            " 6   DewPointLowF                1319 non-null   object\n",
            " 7   HumidityHighPercent         1319 non-null   object\n",
            " 8   HumidityAvgPercent          1319 non-null   object\n",
            " 9   HumidityLowPercent          1319 non-null   object\n",
            " 10  SeaLevelPressureHighInches  1319 non-null   object\n",
            " 11  SeaLevelPressureAvgInches   1319 non-null   object\n",
            " 12  SeaLevelPressureLowInches   1319 non-null   object\n",
            " 13  VisibilityHighMiles         1319 non-null   object\n",
            " 14  VisibilityAvgMiles          1319 non-null   object\n",
            " 15  VisibilityLowMiles          1319 non-null   object\n",
            " 16  WindHighMPH                 1319 non-null   object\n",
            " 17  WindAvgMPH                  1319 non-null   object\n",
            " 18  WindGustMPH                 1319 non-null   object\n",
            " 19  PrecipitationSumInches      1319 non-null   object\n",
            " 20  Events                      1319 non-null   object\n",
            "dtypes: int64(3), object(18)\n",
            "memory usage: 216.5+ KB\n"
          ],
          "name": "stdout"
        }
      ]
    },
    {
      "cell_type": "markdown",
      "metadata": {
        "id": "C4RuN3GmItae"
      },
      "source": [
        "**Data Exploration**"
      ]
    },
    {
      "cell_type": "code",
      "metadata": {
        "id": "CZRBUReeJAnD"
      },
      "source": [
        "df = pd.read_csv('drive/My Drive/Colab Notebooks/AiLabFinal/austin_weather.csv')\n",
        "df.set_index('Date').sort_index()\n",
        "\n",
        "# use average data only\n",
        "columns_of_interest = ['TempAvgF','DewPointAvgF', 'HumidityAvgPercent', 'SeaLevelPressureAvgInches', 'VisibilityAvgMiles', 'WindAvgMPH', 'PrecipitationSumInches']\n",
        "data = df[columns_of_interest]\n",
        "events = df[['Events']].replace(' ', 'None')"
      ],
      "execution_count": null,
      "outputs": []
    },
    {
      "cell_type": "code",
      "metadata": {
        "colab": {
          "base_uri": "https://localhost:8080/",
          "height": 456
        },
        "id": "G6VpZn_wJUfU",
        "outputId": "385f5c9e-c145-4899-a4c7-5677a5bb6469"
      },
      "source": [
        "events.Events.value_counts().plot(kind='bar', figsize=(10,5))"
      ],
      "execution_count": null,
      "outputs": [
        {
          "output_type": "execute_result",
          "data": {
            "text/plain": [
              "<matplotlib.axes._subplots.AxesSubplot at 0x7fdc8da22090>"
            ]
          },
          "metadata": {
            "tags": []
          },
          "execution_count": 67
        },
        {
          "output_type": "display_data",
          "data": {
            "image/png": "[encoded data removed]",
            "text/plain": [
              "<Figure size 720x360 with 1 Axes>"
            ]
          },
          "metadata": {
            "tags": [],
            "needs_background": "light"
          }
        }
      ]
    },
    {
      "cell_type": "markdown",
      "metadata": {
        "id": "vmw0s78uJgt0"
      },
      "source": [
        "**Histogram**"
      ]
    },
    {
      "cell_type": "code",
      "metadata": {
        "colab": {
          "base_uri": "https://localhost:8080/",
          "height": 400
        },
        "id": "KwafmqTNJjYs",
        "outputId": "d67f4691-9769-48a6-8d23-265b9a22a354"
      },
      "source": [
        "unique_events = set()\n",
        "for value in events.Events.value_counts().index:\n",
        "    splitted = [x.strip() for x in value.split(',')]\n",
        "    unique_events.update(splitted)\n",
        "unique_events\n",
        "\n",
        "single_events = pd.DataFrame()\n",
        "for event_type in unique_events:\n",
        "    event_occurred = events.Events.str.contains(event_type)\n",
        "    single_events = pd.concat([single_events, pd.DataFrame(data={event_type: event_occurred.values})], join='outer', axis=1)\n",
        "\n",
        "#single_events.head()\n",
        "ax = single_events.sum().sort_values(ascending=False).plot.bar(figsize=(10,5))\n",
        "ax.set_title(\"Weather events in dataset\", fontsize=18)\n",
        "ax.set_ylabel(\"Number of occurrences\", fontsize=14)\n",
        "for i in ax.patches:\n",
        "    ax.text(i.get_x()+.18, i.get_height()+5, i.get_height(), fontsize=12)"
      ],
      "execution_count": null,
      "outputs": [
        {
          "output_type": "display_data",
          "data": {
            "image/png": "[encoded data removed]",
            "text/plain": [
              "<Figure size 720x360 with 1 Axes>"
            ]
          },
          "metadata": {
            "tags": [],
            "needs_background": "light"
          }
        }
      ]
    },
    {
      "cell_type": "markdown",
      "metadata": {
        "id": "PI8eCxBx_1We"
      },
      "source": [
        "**Normalize Input Data**"
      ]
    },
    {
      "cell_type": "markdown",
      "metadata": {
        "id": "XRUWiiCl-dEs"
      },
      "source": [
        "Replace 'T' and '-' with 0"
      ]
    },
    {
      "cell_type": "code",
      "metadata": {
        "id": "7clS0vb_AQ_E",
        "colab": {
          "base_uri": "https://localhost:8080/",
          "height": 224
        },
        "outputId": "a259b600-d05d-4840-9922-20e233969621"
      },
      "source": [
        "#Normalization Code\n",
        "data = data.drop(['Events', 'Date', 'SeaLevelPressureAvgInches','SeaLevelPressureLowInches'], axis=1)\n",
        "data = data.replace('T', 0.0)\n",
        "data = data.replace('-', 0.0)\n",
        "data.to_csv('austin.csv')\n",
        "data.head()"
      ],
      "execution_count": null,
      "outputs": [
        {
          "output_type": "execute_result",
          "data": {
            "text/html": [
              "<div>\n",
              "<style scoped>\n",
              "    .dataframe tbody tr th:only-of-type {\n",
              "        vertical-align: middle;\n",
              "    }\n",
              "\n",
              "    .dataframe tbody tr th {\n",
              "        vertical-align: top;\n",
              "    }\n",
              "\n",
              "    .dataframe thead th {\n",
              "        text-align: right;\n",
              "    }\n",
              "</style>\n",
              "<table border=\"1\" class=\"dataframe\">\n",
              "  <thead>\n",
              "    <tr style=\"text-align: right;\">\n",
              "      <th></th>\n",
              "      <th>TempHighF</th>\n",
              "      <th>TempAvgF</th>\n",
              "      <th>TempLowF</th>\n",
              "      <th>DewPointHighF</th>\n",
              "      <th>DewPointAvgF</th>\n",
              "      <th>DewPointLowF</th>\n",
              "      <th>HumidityHighPercent</th>\n",
              "      <th>HumidityAvgPercent</th>\n",
              "      <th>HumidityLowPercent</th>\n",
              "      <th>SeaLevelPressureHighInches</th>\n",
              "      <th>VisibilityHighMiles</th>\n",
              "      <th>VisibilityAvgMiles</th>\n",
              "      <th>VisibilityLowMiles</th>\n",
              "      <th>WindHighMPH</th>\n",
              "      <th>WindAvgMPH</th>\n",
              "      <th>WindGustMPH</th>\n",
              "      <th>PrecipitationSumInches</th>\n",
              "    </tr>\n",
              "  </thead>\n",
              "  <tbody>\n",
              "    <tr>\n",
              "      <th>0</th>\n",
              "      <td>74</td>\n",
              "      <td>60</td>\n",
              "      <td>45</td>\n",
              "      <td>67</td>\n",
              "      <td>49</td>\n",
              "      <td>43</td>\n",
              "      <td>93</td>\n",
              "      <td>75</td>\n",
              "      <td>57</td>\n",
              "      <td>29.86</td>\n",
              "      <td>10</td>\n",
              "      <td>7</td>\n",
              "      <td>2</td>\n",
              "      <td>20</td>\n",
              "      <td>4</td>\n",
              "      <td>31</td>\n",
              "      <td>0.46</td>\n",
              "    </tr>\n",
              "    <tr>\n",
              "      <th>1</th>\n",
              "      <td>56</td>\n",
              "      <td>48</td>\n",
              "      <td>39</td>\n",
              "      <td>43</td>\n",
              "      <td>36</td>\n",
              "      <td>28</td>\n",
              "      <td>93</td>\n",
              "      <td>68</td>\n",
              "      <td>43</td>\n",
              "      <td>30.41</td>\n",
              "      <td>10</td>\n",
              "      <td>10</td>\n",
              "      <td>5</td>\n",
              "      <td>16</td>\n",
              "      <td>6</td>\n",
              "      <td>25</td>\n",
              "      <td>0</td>\n",
              "    </tr>\n",
              "    <tr>\n",
              "      <th>2</th>\n",
              "      <td>58</td>\n",
              "      <td>45</td>\n",
              "      <td>32</td>\n",
              "      <td>31</td>\n",
              "      <td>27</td>\n",
              "      <td>23</td>\n",
              "      <td>76</td>\n",
              "      <td>52</td>\n",
              "      <td>27</td>\n",
              "      <td>30.56</td>\n",
              "      <td>10</td>\n",
              "      <td>10</td>\n",
              "      <td>10</td>\n",
              "      <td>8</td>\n",
              "      <td>3</td>\n",
              "      <td>12</td>\n",
              "      <td>0</td>\n",
              "    </tr>\n",
              "    <tr>\n",
              "      <th>3</th>\n",
              "      <td>61</td>\n",
              "      <td>46</td>\n",
              "      <td>31</td>\n",
              "      <td>36</td>\n",
              "      <td>28</td>\n",
              "      <td>21</td>\n",
              "      <td>89</td>\n",
              "      <td>56</td>\n",
              "      <td>22</td>\n",
              "      <td>30.56</td>\n",
              "      <td>10</td>\n",
              "      <td>10</td>\n",
              "      <td>7</td>\n",
              "      <td>12</td>\n",
              "      <td>4</td>\n",
              "      <td>20</td>\n",
              "      <td>0</td>\n",
              "    </tr>\n",
              "    <tr>\n",
              "      <th>4</th>\n",
              "      <td>58</td>\n",
              "      <td>50</td>\n",
              "      <td>41</td>\n",
              "      <td>44</td>\n",
              "      <td>40</td>\n",
              "      <td>36</td>\n",
              "      <td>86</td>\n",
              "      <td>71</td>\n",
              "      <td>56</td>\n",
              "      <td>30.41</td>\n",
              "      <td>10</td>\n",
              "      <td>10</td>\n",
              "      <td>7</td>\n",
              "      <td>10</td>\n",
              "      <td>2</td>\n",
              "      <td>16</td>\n",
              "      <td>0</td>\n",
              "    </tr>\n",
              "  </tbody>\n",
              "</table>\n",
              "</div>"
            ],
            "text/plain": [
              "   TempHighF  TempAvgF  TempLowF  ... WindAvgMPH WindGustMPH PrecipitationSumInches\n",
              "0         74        60        45  ...          4          31                   0.46\n",
              "1         56        48        39  ...          6          25                      0\n",
              "2         58        45        32  ...          3          12                      0\n",
              "3         61        46        31  ...          4          20                      0\n",
              "4         58        50        41  ...          2          16                      0\n",
              "\n",
              "[5 rows x 17 columns]"
            ]
          },
          "metadata": {
            "tags": []
          },
          "execution_count": 12
        }
      ]
    },
    {
      "cell_type": "markdown",
      "metadata": {
        "id": "B_zDkU1_xfmT"
      },
      "source": [
        "**Algorithm**\n",
        "\n",
        "We will use linear regression"
      ]
    },
    {
      "cell_type": "markdown",
      "metadata": {
        "id": "KFhxWe9uLPzN"
      },
      "source": [
        "Graph for day 0"
      ]
    },
    {
      "cell_type": "code",
      "metadata": {
        "id": "uA9vP6wCxs7c",
        "colab": {
          "base_uri": "https://localhost:8080/",
          "height": 312
        },
        "outputId": "e035fae0-f4db-48ff-b66f-3ec069548935"
      },
      "source": [
        "#Code\n",
        "data = pd.read_csv(\"austin.csv\")\n",
        "X = data.drop(['PrecipitationSumInches'], axis=1)\n",
        "Y = data['PrecipitationSumInches']\n",
        "Y = Y.values.reshape(-1,1)\n",
        "day_index = 0\n",
        "days = [i for i in range(Y.size)]\n",
        "clf = LinearRegression()\n",
        "clf.fit(X,Y)\n",
        "\n",
        "inp = np.array([ [29.68], [10], [7], [2], [0], [20], [4], [31], [74], [60], [45], [67], [49], [43], [33], [45], [57] ])\n",
        "inp = inp.reshape(1, -1)\n",
        "\n",
        "print(clf.predict(inp))\n",
        "plt.scatter(days, Y, color='y')\n",
        "plt.scatter(days[day_index], Y[day_index], color ='r')\n",
        "plt.title('Precipitation Level')\n",
        "plt.xlabel('Days')\n",
        "plt.ylabel('Precipitation in inches')\n",
        "plt.show()"
      ],
      "execution_count": null,
      "outputs": [
        {
          "output_type": "stream",
          "text": [
            "[[0.26603939]]\n"
          ],
          "name": "stdout"
        },
        {
          "output_type": "display_data",
          "data": {
            "image/png": "[encoded data removed]",
            "text/plain": [
              "<Figure size 432x288 with 1 Axes>"
            ]
          },
          "metadata": {
            "tags": [],
            "needs_background": "light"
          }
        }
      ]
    },
    {
      "cell_type": "code",
      "metadata": {
        "colab": {
          "base_uri": "https://localhost:8080/",
          "height": 298
        },
        "id": "-0Qo7fORHZAd",
        "outputId": "acc105dc-4efb-400f-8f86-a0d034f0fac6"
      },
      "source": [
        "\n",
        "x_f = X.filter(['TempAvgF', 'DewPointAvgF', 'HumidityAvgPercent', 'SeaLevelPressureAvgInches', 'VisibilityAvgMiles',\n",
        "                'WindAvgMPH'], axis=1)\n",
        "print('Preciptiation Vs Selected Attributes Graph: ')\n",
        "for i in range(x_f.columns.size):\n",
        "    plt.subplot(3, 2, i+1)\n",
        "    plt.scatter(days, x_f[x_f.columns.values[i][:100]], color='y')\n",
        "    plt.scatter(days[day_index], x_f[x_f.columns.values[i]]\n",
        "                [day_index], color='r')\n",
        "    plt.title(x_f.columns.values[i])\n",
        "# plot a graph with a few features vs precipitation to observe the trends\n",
        "plt.show()"
      ],
      "execution_count": null,
      "outputs": [
        {
          "output_type": "stream",
          "text": [
            "Preciptiation Vs Selected Attributes Graph: \n"
          ],
          "name": "stdout"
        },
        {
          "output_type": "display_data",
          "data": {
            "image/png": "[encoded data removed]",
            "text/plain": [
              "<Figure size 432x288 with 5 Axes>"
            ]
          },
          "metadata": {
            "tags": [],
            "needs_background": "light"
          }
        }
      ]
    },
    {
      "cell_type": "markdown",
      "metadata": {
        "id": "NTFw2ScHLn6d"
      },
      "source": [
        "Graph for day 500"
      ]
    },
    {
      "cell_type": "code",
      "metadata": {
        "colab": {
          "base_uri": "https://localhost:8080/",
          "height": 312
        },
        "id": "V5ZrkUTIL2E0",
        "outputId": "8445853d-5c56-4c0a-ee72-ede49237fbda"
      },
      "source": [
        "#Code\n",
        "data = pd.read_csv(\"austin.csv\")\n",
        "X = data.drop(['PrecipitationSumInches'], axis=1)\n",
        "Y = data['PrecipitationSumInches']\n",
        "Y = Y.values.reshape(-1,1)\n",
        "day_index = 500\n",
        "days = [i for i in range(Y.size)]\n",
        "clf = LinearRegression()\n",
        "clf.fit(X,Y)\n",
        "\n",
        "inp = np.array([ [29.68], [10], [7], [2], [0], [20], [4], [31], [74], [60], [45], [67], [49], [43], [33], [45], [57] ])\n",
        "inp = inp.reshape(1, -1)\n",
        "\n",
        "print(clf.predict(inp))\n",
        "plt.scatter(days, Y, color='y')\n",
        "plt.scatter(days[day_index], Y[day_index], color ='r')\n",
        "plt.title('Precipitation Level')\n",
        "plt.xlabel('Days')\n",
        "plt.ylabel('Precipitation in inches')\n",
        "plt.show()"
      ],
      "execution_count": null,
      "outputs": [
        {
          "output_type": "stream",
          "text": [
            "[[0.26603939]]\n"
          ],
          "name": "stdout"
        },
        {
          "output_type": "display_data",
          "data": {
            "image/png": "[encoded data removed]",
            "text/plain": [
              "<Figure size 432x288 with 1 Axes>"
            ]
          },
          "metadata": {
            "tags": [],
            "needs_background": "light"
          }
        }
      ]
    },
    {
      "cell_type": "code",
      "metadata": {
        "colab": {
          "base_uri": "https://localhost:8080/",
          "height": 298
        },
        "id": "R1igmATKL_b1",
        "outputId": "e114741c-0a98-4b32-e9ef-cfdcc432ba1c"
      },
      "source": [
        "x_f = X.filter(['TempAvgF', 'DewPointAvgF', 'HumidityAvgPercent', 'SeaLevelPressureAvgInches', 'VisibilityAvgMiles',\n",
        "                'WindAvgMPH'], axis=1)\n",
        "print('Preciptiation Vs Selected Attributes Graph: ')\n",
        "for i in range(x_f.columns.size):\n",
        "    plt.subplot(3, 2, i+1)\n",
        "    plt.scatter(days, x_f[x_f.columns.values[i][:100]], color='y')\n",
        "    plt.scatter(days[day_index], x_f[x_f.columns.values[i]]\n",
        "                [day_index], color='r')\n",
        "    plt.title(x_f.columns.values[i])\n",
        "# plot a graph with a few features vs precipitation to observe the trends\n",
        "plt.show()"
      ],
      "execution_count": null,
      "outputs": [
        {
          "output_type": "stream",
          "text": [
            "Preciptiation Vs Selected Attributes Graph: \n"
          ],
          "name": "stdout"
        },
        {
          "output_type": "display_data",
          "data": {
            "image/png": "[encoded data removed]",
            "text/plain": [
              "<Figure size 432x288 with 5 Axes>"
            ]
          },
          "metadata": {
            "tags": [],
            "needs_background": "light"
          }
        }
      ]
    }
  ]
}